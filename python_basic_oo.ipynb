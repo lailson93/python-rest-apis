{
 "cells": [
  {
   "cell_type": "code",
   "execution_count": 6,
   "metadata": {},
   "outputs": [],
   "source": [
    "class JogadorLoteria():\n",
    "    def __init__(self,nome,numeros):\n",
    "        self.nome=nome\n",
    "        self.numeros=numeros\n",
    "    \n",
    "    def total(self):\n",
    "        return sum(self.numeros)"
   ]
  },
  {
   "cell_type": "code",
   "execution_count": 7,
   "metadata": {},
   "outputs": [],
   "source": [
    "jogador_1 = JogadorLoteria(\"lailson\",(1,2,3,4.5))\n",
    "jogador_2 = JogadorLoteria(\"Pedro\",(1,2,43,1,2))"
   ]
  },
  {
   "cell_type": "code",
   "execution_count": 10,
   "metadata": {},
   "outputs": [
    {
     "data": {
      "text/plain": [
       "('lailson', 10.5)"
      ]
     },
     "execution_count": 10,
     "metadata": {},
     "output_type": "execute_result"
    }
   ],
   "source": [
    "jogador_1.nome,jogador_1.total()"
   ]
  },
  {
   "cell_type": "code",
   "execution_count": 11,
   "metadata": {},
   "outputs": [
    {
     "data": {
      "text/plain": [
       "('Pedro', 49)"
      ]
     },
     "execution_count": 11,
     "metadata": {},
     "output_type": "execute_result"
    }
   ],
   "source": [
    "jogador_2.nome, jogador_2.total()"
   ]
  },
  {
   "cell_type": "code",
   "execution_count": 13,
   "metadata": {},
   "outputs": [],
   "source": [
    "class Funcionario():\n",
    "    def __init__ (self, nome, salario):\n",
    "        self.nome = nome\n",
    "        self.salario = salario\n",
    "        \n",
    "    def dados(self):\n",
    "        return {'nome': self.nome, 'salario':self.salario}"
   ]
  },
  {
   "cell_type": "code",
   "execution_count": 14,
   "metadata": {},
   "outputs": [
    {
     "data": {
      "text/plain": [
       "{'nome': 'pedro', 'salario': 1500}"
      ]
     },
     "execution_count": 14,
     "metadata": {},
     "output_type": "execute_result"
    }
   ],
   "source": [
    "funcionario_1 = Funcionario('pedro',1500)\n",
    "funcionario_1.dados()"
   ]
  },
  {
   "cell_type": "code",
   "execution_count": null,
   "metadata": {},
   "outputs": [],
   "source": [
    "### uso de heranca, bem simples"
   ]
  },
  {
   "cell_type": "code",
   "execution_count": 17,
   "metadata": {},
   "outputs": [],
   "source": [
    "class Admin(Funcionario):\n",
    "    def __init__ (self,nome,salario):\n",
    "        super().__init__(nome,salario)\n",
    "        \n",
    "    def atualizar_dados(self, nome):\n",
    "        self.nome = nome\n",
    "        return self.dados()"
   ]
  },
  {
   "cell_type": "code",
   "execution_count": 23,
   "metadata": {},
   "outputs": [
    {
     "name": "stdout",
     "output_type": "stream",
     "text": [
      "{'nome': 'pedro', 'salario': 1500}\n",
      "{'nome': 'Junio', 'salario': 15000}\n"
     ]
    }
   ],
   "source": [
    "funcionario_2 = Admin(\"Junio\",15000)\n",
    "\n",
    "print(funcionario_1.dados())\n",
    "print(funcionario_2.dados())"
   ]
  },
  {
   "cell_type": "code",
   "execution_count": 25,
   "metadata": {},
   "outputs": [
    {
     "name": "stdout",
     "output_type": "stream",
     "text": [
      "{'nome': 'Junior', 'salario': 15000}\n"
     ]
    }
   ],
   "source": [
    "funcionario_2.atualizar_dados('Junior')\n",
    "\n",
    "print(funcionario_2.dados())"
   ]
  },
  {
   "cell_type": "code",
   "execution_count": 26,
   "metadata": {},
   "outputs": [],
   "source": [
    "### métodos de classe e metodos estaticos"
   ]
  },
  {
   "cell_type": "code",
   "execution_count": 39,
   "metadata": {},
   "outputs": [],
   "source": [
    "class Funcionario():\n",
    "    aumento = 1.04\n",
    "    \n",
    "    def __init__ (self, nome, salario):\n",
    "        self.nome = nome\n",
    "        self.salario = salario\n",
    "        \n",
    "    def dados(self):\n",
    "        return {'nome': self.nome, 'salario':self.salario}\n",
    "    \n",
    "    def aplicar_aumento(self):\n",
    "        self.salario = self.salario * self.aumento\n",
    "        \n",
    "    ### para usar o metodo de classe a seguir chamasse a propria classe\n",
    "    ### usa argumentos da classe\n",
    "    @classmethod\n",
    "    def definir_novo_aumento(cls,novo_aumento):\n",
    "        cls.aumento = novo_aumento\n",
    "        \n",
    "    ## metodo estático.\n",
    "    ## tem relacao da  classe, mas nao exige argumentos da classe\n",
    "    @staticmethod\n",
    "    def dia_util(dia):\n",
    "        if dia.weekday() ==5 or dia.weekday()==6:\n",
    "            return False\n",
    "        return True"
   ]
  },
  {
   "cell_type": "code",
   "execution_count": 34,
   "metadata": {},
   "outputs": [
    {
     "name": "stdout",
     "output_type": "stream",
     "text": [
      "{'nome': 'fabio', 'salario': 1520}\n",
      "{'nome': 'fabio', 'salario': 1580.8}\n"
     ]
    }
   ],
   "source": [
    "funcionario_3 = Funcionario('fabio',1520)\n",
    "\n",
    "print(funcionario_3.dados())\n",
    "funcionario_3.aplicar_aumento()\n",
    "print(funcionario_3.dados())"
   ]
  },
  {
   "cell_type": "code",
   "execution_count": 38,
   "metadata": {},
   "outputs": [
    {
     "name": "stdout",
     "output_type": "stream",
     "text": [
      "{'nome': 'fabio', 'salario': 1849.312411648} 1.04\n",
      "{'nome': 'fabio', 'salario': 1923.2849081139202} 1.04\n"
     ]
    }
   ],
   "source": [
    "### chamando método de classe 'definir_novo_aumento'\n",
    "funcionario_3.aplicar_aumento()\n",
    "print(funcionario_3.dados(),funcionario_3.aumento)\n",
    "\n",
    "Funcionario.definir_novo_aumento(2)\n",
    "\n",
    "funcionario_3.aplicar_aumento()\n",
    "print(funcionario_3.dados(),funcionario_3.aumento) ## o truc"
   ]
  },
  {
   "cell_type": "code",
   "execution_count": 40,
   "metadata": {},
   "outputs": [
    {
     "data": {
      "text/plain": [
       "True"
      ]
     },
     "execution_count": 40,
     "metadata": {},
     "output_type": "execute_result"
    }
   ],
   "source": [
    "import datetime\n",
    "minha_data = datetime.date(2019,4,12)\n",
    "\n",
    "Funcionario.dia_util(minha_data)"
   ]
  },
  {
   "cell_type": "code",
   "execution_count": 41,
   "metadata": {},
   "outputs": [
    {
     "name": "stdout",
     "output_type": "stream",
     "text": [
      "(1, 2, 34, 'asas')\n",
      "{'nome': 'leticia', 'idade': 23}\n"
     ]
    }
   ],
   "source": [
    "### args e kwargs\n",
    "\n",
    "def metodo_kwargs(*args,**kwargs):\n",
    "    print(args)\n",
    "    print(kwargs)\n",
    "    \n",
    "metodo_kwargs(1,2,34,\"asas\",nome=\"leticia\",idade=23)"
   ]
  },
  {
   "cell_type": "code",
   "execution_count": null,
   "metadata": {},
   "outputs": [],
   "source": []
  }
 ],
 "metadata": {
  "kernelspec": {
   "display_name": "Python 3",
   "language": "python",
   "name": "python3"
  },
  "language_info": {
   "codemirror_mode": {
    "name": "ipython",
    "version": 3
   },
   "file_extension": ".py",
   "mimetype": "text/x-python",
   "name": "python",
   "nbconvert_exporter": "python",
   "pygments_lexer": "ipython3",
   "version": "3.6.10"
  }
 },
 "nbformat": 4,
 "nbformat_minor": 4
}
